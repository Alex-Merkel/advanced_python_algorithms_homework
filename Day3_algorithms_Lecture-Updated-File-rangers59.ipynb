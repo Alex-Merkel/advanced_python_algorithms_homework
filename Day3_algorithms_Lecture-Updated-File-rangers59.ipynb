{
 "cells": [
  {
   "cell_type": "markdown",
   "metadata": {},
   "source": [
    "# Algorithms, Binary Search & Linked Lists"
   ]
  },
  {
   "cell_type": "markdown",
   "metadata": {},
   "source": [
    "## Tasks Today:\n",
    " \n",
    "1) <b>In-Place Algorithms</b> <br>\n",
    " &nbsp;&nbsp;&nbsp;&nbsp; a) Syntax <br>\n",
    " &nbsp;&nbsp;&nbsp;&nbsp; a) Out of Place Algorithm <br>\n",
    " &nbsp;&nbsp;&nbsp;&nbsp; b) In-Class Exercise #1 <br>\n",
    "2) <b>Two Pointers</b> <br>\n",
    "3) <b>Linked Lists</b> <br>\n",
    "4) <b>Merge Sort</b> <br>\n",
    " &nbsp;&nbsp;&nbsp;&nbsp; a) Video on Algorithms <br>\n",
    " &nbsp;&nbsp;&nbsp;&nbsp; b) How it Works <br>\n",
    "5) <b>Exercises</b> <br>\n",
    " &nbsp;&nbsp;&nbsp;&nbsp; a) Exercise #1 - Reverse a List in Place Using an In-Place Algorithm <br>\n",
    " &nbsp;&nbsp;&nbsp;&nbsp; b) Exercise #2 - Find Distinct Words <br>\n",
    " &nbsp;&nbsp;&nbsp;&nbsp; c) Exercise #3 - Write a program to implement a Linear Search Algorithm. <br>"
   ]
  },
  {
   "cell_type": "markdown",
   "metadata": {},
   "source": [
    "## In-Place Algorithms"
   ]
  },
  {
   "cell_type": "markdown",
   "metadata": {},
   "source": [
    "#### Syntax"
   ]
  },
  {
   "cell_type": "code",
   "execution_count": 6,
   "metadata": {},
   "outputs": [
    {
     "name": "stdout",
     "output_type": "stream",
     "text": [
      "Before swap: [20, 4, 10]\n",
      "After swap: [10, 4, 20]\n"
     ]
    }
   ],
   "source": [
    "# *****THIS WHOLE DOCUMENT IS TOUGH STUFF. WON'T USE EVERYDAY, BUT VERY HELPFUL AND WILL BE ON TOUGHER INTERVIEW QUESTIONS*****\n",
    "# ***Important to pick a good algorithm for what you're trying to do***\n",
    "# ** Syntax: var[i], var[i+1] = var[i+1], var[i] **\n",
    "# **Sometimes known as a swap algorithm. (Going to take a list and swap the order (first to last, etc.))**\n",
    "def swap(a_list, x, y, z):\n",
    "#     **Below we are rewriting the list in backwards order: **\n",
    "    a_list[x], a_list[y], a_list[z] = a_list[z], a_list[y], a_list[x]\n",
    "    return a_list\n",
    "\n",
    "my_list = [20, 4, 10]\n",
    "print(f\"Before swap: {my_list}\")\n",
    "      \n",
    "# ***Swap:\n",
    "# ***This makes list start from the largest and go to the lowest: ***\n",
    "# swap(my_list, 2, 0, 1)\n",
    "# ***This makes list start from smallest and go up to largest: ***\n",
    "swap(my_list, 0, 1, 2)\n",
    "      \n",
    "print(f\"After swap: {my_list}\")"
   ]
  },
  {
   "cell_type": "markdown",
   "metadata": {},
   "source": [
    "#### Out of Place Algorithm"
   ]
  },
  {
   "cell_type": "code",
   "execution_count": 10,
   "metadata": {},
   "outputs": [
    {
     "name": "stdout",
     "output_type": "stream",
     "text": [
      "[20, 4, 10]\n",
      "[10, 4, 20]\n",
      "Before  ['a', 'b', 'c', 'd']\n",
      "After ['d', 'c', 'b', 'a']\n"
     ]
    }
   ],
   "source": [
    "# ***NOT REPLACING THINGS LIKE AN IN-PLACE ALGORITHM!!! COMPLETELY REVERSING, BUT ALSO COPIES TO ANOTHER PLACE IN MEMORY***\n",
    "\n",
    "# **Nifty way to copy list backwards (my_list[::-1]) **This swaps back from [10, 4, 20] in above cell to original list**\n",
    "my_list_copy = my_list[::-1]\n",
    "print(my_list_copy)\n",
    "# ***Notice that my_list is backwards (opposite of list above):\n",
    "print(my_list)\n",
    "\n",
    "array = ['a', 'b', 'c', 'd']\n",
    "new_array = ['a'] * len(array)\n",
    "\n",
    "print(\"Before \", array)\n",
    "length = len(array) - 1\n",
    "\n",
    "for i in range(length):\n",
    "#     ***The new array is the line below and is what ends up getting switched: ***\n",
    "    new_array[i] = array[length - i]\n",
    "# **We've overwritten the array value below: **\n",
    "array = new_array\n",
    "print(\"After\", array)\n"
   ]
  },
  {
   "cell_type": "markdown",
   "metadata": {},
   "source": [
    "#### In-Class Exercise #1 <br>\n",
    "<p>Write a function that takes in four arguments (list, index1, index2, index3), and swaps those three positions in the list passed in.</p>"
   ]
  },
  {
   "cell_type": "code",
   "execution_count": 18,
   "metadata": {},
   "outputs": [
    {
     "name": "stdout",
     "output_type": "stream",
     "text": [
      "[3, 4, 10, 8, 4, 2, 6]\n"
     ]
    }
   ],
   "source": [
    "def switch(the_list, a, b, c):\n",
    "    the_list[a], the_list[b], the_list[c] = the_list[c], the_list[b], the_list[a]\n",
    "    return the_list\n",
    "\n",
    "list_1 = [10, 4, 3, 8, 4, 2, 6]\n",
    "\n",
    "swap(list_1, 0, 1, 2)\n",
    "print(list_1)\n"
   ]
  },
  {
   "cell_type": "markdown",
   "metadata": {},
   "source": [
    "## Two Pointers"
   ]
  },
  {
   "cell_type": "markdown",
   "metadata": {},
   "source": [
    "#### Syntax"
   ]
  },
  {
   "cell_type": "code",
   "execution_count": 20,
   "metadata": {},
   "outputs": [
    {
     "data": {
      "text/plain": [
       "[22, 11, 4, 8, 9, 12, 3, 2, 1]"
      ]
     },
     "execution_count": 20,
     "metadata": {},
     "output_type": "execute_result"
    }
   ],
   "source": [
    "# ***Two Pointer ends up having 2 items that are iterating variables. Moving where they are on some kind of list ***\n",
    "# **Use Two Pointers to switch the list from front to back like above cells **\n",
    "# **Syntax: alist[left], alist[right] = alist[right], alist[left] ** (Can set the two points (low/high vs. left/right, etc.))**\n",
    "def twoPointers(alist):\n",
    "#    **Create the pointers:\n",
    "    left = 0\n",
    "#    **We need to subtract from below rather than by value which is why it's \"len(alist) - 1\" instead of \"alist[1]\": **\n",
    "    right = len(alist) - 1   #length doesn't 0 index, so this is making the var \"right\" equal to the index of the last item: **\n",
    "#    **Setup a loop that works through our list and swaps things one pair at a time: **\n",
    "# **Having below as <= rather than just < is good for odd number lists: **\n",
    "    while left <= right:\n",
    "        alist[left], alist[right] = alist[right], alist[left]\n",
    "#       **The way ours is setup they will run simulaneously from right and left side of list and work towards middle:**\n",
    "        left += 1\n",
    "        right -= 1\n",
    "    return alist\n",
    "\n",
    "my_list2 = [1,2,3,12,9,8,4,11,22]\n",
    "twoPointers(my_list2)\n"
   ]
  },
  {
   "cell_type": "markdown",
   "metadata": {},
   "source": [
    "#### Video of Algorithms <br>\n",
    "<p>Watch the video about algorithms.</p>\n",
    "\n",
    "https://www.youtube.com/watch?v=Q9HjeFD62Uk\n",
    "\n",
    "https://www.youtube.com/watch?v=kPRA0W1kECg\n",
    "\n",
    "https://www.youtube.com/watch?v=ZZuD6iUe3Pc"
   ]
  },
  {
   "cell_type": "markdown",
   "metadata": {},
   "source": [
    "# Sorting Algorithms"
   ]
  },
  {
   "cell_type": "markdown",
   "metadata": {},
   "source": [
    "#### Bubble Sort\n",
    "\n",
    "Worst Case: O(n^2) Time - O(1) Space"
   ]
  },
  {
   "cell_type": "code",
   "execution_count": 23,
   "metadata": {},
   "outputs": [
    {
     "data": {
      "text/plain": [
       "[1, 22, 34, 44, 55, 66, 88, 100]"
      ]
     },
     "execution_count": 23,
     "metadata": {},
     "output_type": "execute_result"
    }
   ],
   "source": [
    "# **Best case: O(n) - linear (if it's already in order, it'll run through it once and confirm it's in order)**\n",
    "\n",
    "def swap(i, j, array):\n",
    "    array[i], array[j] = array[j], array[i]\n",
    "    \n",
    "def bubbleSort(array):\n",
    "    isSorted = False\n",
    "#     **Double negative below (would result in \"True\"): ** \n",
    "    while not isSorted:\n",
    "#         **Doing below flag for later on: **\n",
    "        isSorted = True\n",
    "        for num in range(len(array) - 1):\n",
    "            if array[num] > array[num + 1]:\n",
    "                swap(num, num + 1, array)\n",
    "#                 **As long as if statement above is true (number is bigger than the next one), will keep going: **\n",
    "                isSorted = False\n",
    "    return array\n",
    "bubbleSort([22, 55, 88, 44, 1, 100, 34, 66])"
   ]
  },
  {
   "cell_type": "markdown",
   "metadata": {},
   "source": [
    "##### Insertion Sort\n",
    "\n",
    "Worst Case: O(n^2) time - O(1)space"
   ]
  },
  {
   "cell_type": "code",
   "execution_count": 24,
   "metadata": {},
   "outputs": [
    {
     "data": {
      "text/plain": [
       "[1, 22, 34, 44, 55, 66, 88, 100]"
      ]
     },
     "execution_count": 24,
     "metadata": {},
     "output_type": "execute_result"
    }
   ],
   "source": [
    "# ***Picking the best algorithm for a problem and executing it is for a HIGHER LEVEL job interview. Some Junior jobs too! ***\n",
    "def swap(i, j, array):\n",
    "    array[i], array[j] = array[j], array[i]\n",
    "    \n",
    "def insertionSort(array):\n",
    "    for i in range(1, len(array)):\n",
    "#         **Reset what i is equal to: **\n",
    "        j = i\n",
    "        while j > 0 and array[j] < array[j-1]:\n",
    "            swap(j, j -1, array)\n",
    "            j -= 1\n",
    "    return array\n",
    "\n",
    "insertionSort([22, 55, 88, 44, 1, 100, 34, 66])"
   ]
  },
  {
   "cell_type": "markdown",
   "metadata": {},
   "source": [
    "## Merge Sort"
   ]
  },
  {
   "cell_type": "markdown",
   "metadata": {},
   "source": [
    "#### How it Works"
   ]
  },
  {
   "cell_type": "code",
   "execution_count": 30,
   "metadata": {},
   "outputs": [
    {
     "name": "stdout",
     "output_type": "stream",
     "text": [
      "Splitting...  [1, 16, 2, 3, 14, 19, 15, 3]\n",
      "Splitting...  [1, 16, 2, 3]\n",
      "Splitting...  [1, 16]\n",
      "Splitting...  [1]\n",
      "Merging...  [1]\n",
      "Splitting...  [16]\n",
      "Merging...  [16]\n",
      "Merging...  [1, 16]\n",
      "Splitting...  [2, 3]\n",
      "Splitting...  [2]\n",
      "Merging...  [2]\n",
      "Splitting...  [3]\n",
      "Merging...  [3]\n",
      "Merging...  [2, 3]\n",
      "Merging...  [1, 2, 3, 16]\n",
      "Splitting...  [14, 19, 15, 3]\n",
      "Splitting...  [14, 19]\n",
      "Splitting...  [14]\n",
      "Merging...  [14]\n",
      "Splitting...  [19]\n",
      "Merging...  [19]\n",
      "Merging...  [14, 19]\n",
      "Splitting...  [15, 3]\n",
      "Splitting...  [15]\n",
      "Merging...  [15]\n",
      "Splitting...  [3]\n",
      "Merging...  [3]\n",
      "Merging...  [3, 15]\n",
      "Merging...  [3, 14, 15, 19]\n",
      "Merging...  [1, 2, 3, 3, 14, 15, 16, 19]\n"
     ]
    },
    {
     "data": {
      "text/plain": [
       "[1, 2, 3, 3, 14, 15, 16, 19]"
      ]
     },
     "execution_count": 30,
     "metadata": {},
     "output_type": "execute_result"
    }
   ],
   "source": [
    "# ***Step 1: Split everything into it's own group: \n",
    "# ***Step 2: From left to right, merge two groups together\n",
    "# ***Step 3: While merging, place each item in the correct position within the merged group\n",
    "# ***Step 4: continue steps 3-4 until only one group is left.\n",
    "\n",
    "# **This creates a randomly generated list of integers for us: **\n",
    "from random import randint\n",
    "\n",
    "nums = [randint(0,20) for i in range(8)]\n",
    "\n",
    "# **Write our merge sort below: **\n",
    "def mergeSort(alist):\n",
    "    print(\"Splitting... \", alist)\n",
    "    \n",
    "#     **Step 1: Divide the array into equal parts (as much as possible): **\n",
    "    if len(alist) > 1:\n",
    "        mid = len(alist) // 2\n",
    "#         ** Below [:mid] means \"Take up all the numbers until the middle.\"  **\n",
    "        lefthalf = alist[:mid]\n",
    "#         ** Below [mid:] means \"Take from middle, to the end of the list\"  **\n",
    "        righthalf = alist[mid:]\n",
    "        \n",
    "#         ***Use RECURSION to call mergeSort to perform splits if needed: ***\n",
    "#         **THEN merge once the splits are done:  **\n",
    "        mergeSort(lefthalf)\n",
    "        mergeSort(righthalf)\n",
    "        \n",
    "#         **Index pointers for our list: **\n",
    "        i = 0 # Pointer for our left half\n",
    "        j = 0 # Pointer for our right half\n",
    "        k = 0 # Pointer for our main array\n",
    "        \n",
    "#         **Step 2: Compare the lefthalf and the righthalf: **\n",
    "        while i < len(lefthalf) and j < len(righthalf):\n",
    "            if lefthalf[i] < righthalf[j]:\n",
    "#                 ***Using k to have it sort the ENTIRE array instead of just each half: ***\n",
    "                alist[k] = lefthalf[i]\n",
    "                i = i + 1\n",
    "            else: \n",
    "                alist[k] = righthalf[j]\n",
    "                j = j + 1\n",
    "            k = k + 1\n",
    "#           **Step 3: While merging, place items in the correct positions\n",
    "#       **Below is our backstop for the recursion: **\n",
    "        while i < len(lefthalf):\n",
    "            alist[k] = lefthalf[i]\n",
    "            i = i + 1\n",
    "            k = k + 1\n",
    "        while j < len(righthalf):\n",
    "            alist[k] = righthalf[j]\n",
    "            j = j + 1\n",
    "            k = k + 1\n",
    "    print(\"Merging... \", alist)\n",
    "    return alist\n",
    "\n",
    "mergeSort(nums)\n",
    "        \n"
   ]
  },
  {
   "cell_type": "markdown",
   "metadata": {},
   "source": [
    "# Binary Search\n",
    "\n",
    "The Binary Search algorithm works by finding the number in the middle of a given array and comparing it to the target. Given that the array is sorted\n",
    "\n",
    "* The worst case run time for this algorithm is `O(log(n))`"
   ]
  },
  {
   "cell_type": "code",
   "execution_count": 31,
   "metadata": {},
   "outputs": [
    {
     "data": {
      "text/plain": [
       "'The index is... 1'"
      ]
     },
     "execution_count": 31,
     "metadata": {},
     "output_type": "execute_result"
    }
   ],
   "source": [
    "# **Less = left\n",
    "# **Greater = right\n",
    "# **List of numbers MUST be sorted!!!!!!!\n",
    "\n",
    "def binarySearchHelperFunction(array, target, left, right):\n",
    "    while left <= right:\n",
    "        middle = (left + right) // 2\n",
    "        potentialMatch = array[middle]\n",
    "        if target == potentialMatch:\n",
    "            return f\"The index is... {middle}\"\n",
    "        elif target < potentialMatch:\n",
    "            right = middle - 1\n",
    "        else:\n",
    "            left = middle + 1\n",
    "            \n",
    "    return -1\n",
    "\n",
    "def binarySearch(array, target):\n",
    "    return binarySearchHelperFunction(array, target, 0, len(array) - 1)\n",
    "# ** 44 is our target: **\n",
    "binarySearch([22, 44, 55, 66, 88, 100], 44)\n",
    "        "
   ]
  },
  {
   "cell_type": "markdown",
   "metadata": {},
   "source": [
    "# Exercises"
   ]
  },
  {
   "cell_type": "markdown",
   "metadata": {},
   "source": [
    "### Exercise #1 <br>\n",
    "<p>Reverse the list below in-place using an in-place algorithm.<br>For extra credit: Reverse the strings at the same time.</p>"
   ]
  },
  {
   "cell_type": "code",
   "execution_count": 64,
   "metadata": {},
   "outputs": [
    {
     "name": "stdout",
     "output_type": "stream",
     "text": [
      "['.', 'ecnetnes', 'a', 'si', 'siht']\n"
     ]
    }
   ],
   "source": [
    "# Hints: IN PLACE! Good to lookup in place\n",
    "words = ['this' , 'is', 'a', 'sentence', '.']\n",
    "list_length = len(words)\n",
    "\n",
    "for i in range(list_length // 2):\n",
    "    words[i], words[list_length - 1 - i] = words[list_length - 1 - i][::-1], words[i][::-1]\n",
    "    \n",
    "print(words)      \n",
    "\n",
    "# Output: [\".\", \"ecnetnes\", \"a\", \"si\", \"siht\"]\n"
   ]
  },
  {
   "cell_type": "markdown",
   "metadata": {},
   "source": [
    "### Exercise #2 <br>\n",
    "<p>Create a function that counts how many distinct words are in the string below, then outputs a dictionary with the words as the key and the value as the amount of times that word appears in the string.<br>Should output:<br>{'a': 5,<br>\n",
    " 'abstract': 1,<br>\n",
    " 'an': 3,<br>\n",
    " 'array': 2, ... etc...</p>"
   ]
  },
  {
   "cell_type": "code",
   "execution_count": 152,
   "metadata": {},
   "outputs": [
    {
     "name": "stdout",
     "output_type": "stream",
     "text": [
      "{'a': 5, 'abstract': 1, 'an': 3, 'array': 2, 'associative': 1, 'be': 1, 'buckets': 1, 'can': 2, 'compute': 1, 'computing,': 1, 'data': 2, 'desired': 1, 'found': 1, 'from': 1, 'function': 1, 'hash': 4, 'implements': 1, 'in': 1, 'index': 1, 'into': 1, 'is': 1, 'keys': 1, 'map': 2, 'of': 1, 'or': 1, 'slots': 1, 'structure': 2, 'table': 2, 'that': 1, 'the': 1, 'to': 2, 'type,': 1, 'uses': 1, 'value': 1, 'values.': 1, 'which': 2}\n"
     ]
    }
   ],
   "source": [
    "# Hint (outputting dictionary) But moreso, we have lowercase \"a\" in output, and uppercase \"a\" in string below: **\n",
    "# Hint: Might be helpful if we look up hash tables and hash maps **\n",
    "a_text = 'In computing, a hash table hash map is a data structure which implements an associative array abstract data type, a structure that can map keys to values. A hash table uses a hash function to compute an index into an array of buckets or slots from which the desired value can be found'\n",
    "empty_dict = {}\n",
    "\n",
    "for word in sorted(a_text.lower().split()):\n",
    "    if word not in empty_dict:\n",
    "        empty_dict[word] = 1\n",
    "    else:\n",
    "        empty_dict[word] += 1\n",
    "        \n",
    "print(empty_dict)\n"
   ]
  },
  {
   "cell_type": "markdown",
   "metadata": {},
   "source": [
    "## Exercise #3\n",
    "\n",
    "Write a program to implement a Linear Search Algorithm. Also in a comment, write the Time Complexity of the following algorithm.\n",
    "\n",
    "#### Hint: Linear Searching will require searching a list for a given number. "
   ]
  },
  {
   "cell_type": "code",
   "execution_count": 99,
   "metadata": {},
   "outputs": [
    {
     "data": {
      "text/plain": [
       "3"
      ]
     },
     "execution_count": 99,
     "metadata": {},
     "output_type": "execute_result"
    }
   ],
   "source": [
    "# **Time complexity would be O(n) due to the for loop searching an array:  \n",
    "\n",
    "nums_list = [10,23,45,70,11,15]\n",
    "target = 70\n",
    "    \n",
    "def linearSearch(array, x):\n",
    "    for i in range(len(array)):\n",
    "        if array[i] == x:\n",
    "            return i\n",
    "    return -1\n",
    "\n",
    "linearSearch(nums_list, target)\n"
   ]
  },
  {
   "cell_type": "code",
   "execution_count": null,
   "metadata": {},
   "outputs": [],
   "source": []
  }
 ],
 "metadata": {
  "kernelspec": {
   "display_name": "Python 3 (ipykernel)",
   "language": "python",
   "name": "python3"
  },
  "language_info": {
   "codemirror_mode": {
    "name": "ipython",
    "version": 3
   },
   "file_extension": ".py",
   "mimetype": "text/x-python",
   "name": "python",
   "nbconvert_exporter": "python",
   "pygments_lexer": "ipython3",
   "version": "3.9.13"
  }
 },
 "nbformat": 4,
 "nbformat_minor": 2
}
